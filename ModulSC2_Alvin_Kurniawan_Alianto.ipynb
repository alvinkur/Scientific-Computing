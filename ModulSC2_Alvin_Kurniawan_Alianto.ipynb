{
  "nbformat": 4,
  "nbformat_minor": 0,
  "metadata": {
    "colab": {
      "provenance": [],
      "authorship_tag": "ABX9TyOkCnz9CZuidhFY3kW8hKQU",
      "include_colab_link": true
    },
    "kernelspec": {
      "name": "python3",
      "display_name": "Python 3"
    },
    "language_info": {
      "name": "python"
    }
  },
  "cells": [
    {
      "cell_type": "markdown",
      "metadata": {
        "id": "view-in-github",
        "colab_type": "text"
      },
      "source": [
        "<a href=\"https://colab.research.google.com/github/alvinkur/Scientific-Computing/blob/main/ModulSC2_Alvin_Kurniawan_Alianto.ipynb\" target=\"_parent\"><img src=\"https://colab.research.google.com/assets/colab-badge.svg\" alt=\"Open In Colab\"/></a>"
      ]
    },
    {
      "cell_type": "markdown",
      "source": [
        "# **MODUL 2 SCIENTIFIC COMPUTING - ALVIN KURNIAWAN ALIANTO**"
      ],
      "metadata": {
        "id": "FqmGKPdwATZs"
      }
    },
    {
      "cell_type": "markdown",
      "source": [
        "***NOMOR 1***"
      ],
      "metadata": {
        "id": "axT8sBoY-2NI"
      }
    },
    {
      "cell_type": "code",
      "execution_count": 5,
      "metadata": {
        "colab": {
          "base_uri": "https://localhost:8080/"
        },
        "id": "kqrBHkmk7NgS",
        "outputId": "ca2c0713-40e6-4b12-8da1-1ddee6ac6dfb"
      },
      "outputs": [
        {
          "output_type": "stream",
          "name": "stdout",
          "text": [
            "NOT diagonally dominant\n"
          ]
        }
      ],
      "source": [
        "import numpy as np\n",
        "a = [[2,3,-1],[1,-1,2], [3,2,1]]\n",
        "\n",
        "diag = np.diag(np.abs(a))\n",
        "\n",
        "off_diag = np.sum(np.abs(a), axis = 1)\n",
        "if np.all(diag > off_diag):\n",
        "  print('Matrix is diagonally dominant')\n",
        "else:\n",
        "  print('NOT diagonally dominant')"
      ]
    },
    {
      "cell_type": "code",
      "source": [
        "x1 = 5\n",
        "x2 = 5\n",
        "x3 = 5\n",
        "epsilon = 0.001\n",
        "converged = False\n",
        "\n",
        "x_old = np.array([x1, x2, x3])\n",
        "\n",
        "for k in range(1, 50):\n",
        "  x1 = (10 - 3*x2 + 1*x3) / 2\n",
        "  x2 = (4 - 1*x1 - 2*x3) / (-1)\n",
        "  x3 = (14 - 3*x1 - 2*x2) / 1\n",
        "  x_new = np.array([x1, x2, x3])\n",
        "  dx = np.sqrt(np.dot(x_new - x_old, x_new - x_old))\n",
        "\n",
        "  print(f\"{k}, {x1:.4f}, {x2:.4f}, {x3:.4f}\")\n",
        "\n",
        "  if dx < epsilon:\n",
        "    converged = True\n",
        "    print('Converged!')\n",
        "    break\n",
        "  x_old = x_new\n",
        "\n",
        "if not converged:\n",
        "  print('Not Converged!, increase iterations')"
      ],
      "metadata": {
        "colab": {
          "base_uri": "https://localhost:8080/"
        },
        "id": "yZSg-64p81_Q",
        "outputId": "5ad5cc8a-bc67-479e-eecd-4a2e302bd8cc"
      },
      "execution_count": 8,
      "outputs": [
        {
          "output_type": "stream",
          "name": "stdout",
          "text": [
            "1, 0.0000, 6.0000, 2.0000\n",
            "2, -3.0000, -3.0000, 29.0000\n",
            "3, 24.0000, 78.0000, -214.0000\n",
            "4, -219.0000, -651.0000, 1973.0000\n",
            "5, 1968.0000, 5910.0000, -17710.0000\n",
            "6, -17715.0000, -53139.0000, 159437.0000\n",
            "7, 159432.0000, 478302.0000, -1434886.0000\n",
            "8, -1434891.0000, -4304667.0000, 12914021.0000\n",
            "9, 12914016.0000, 38742054.0000, -116226142.0000\n",
            "10, -116226147.0000, -348678435.0000, 1046035325.0000\n",
            "11, 1046035320.0000, 3138105966.0000, -9414317878.0000\n",
            "12, -9414317883.0000, -28242953643.0000, 84728860949.0000\n",
            "13, 84728860944.0000, 254186582838.0000, -762559748494.0000\n",
            "14, -762559748499.0000, -2287679245491.0000, 6863037736493.0000\n",
            "15, 6863037736488.0000, 20589113209470.0000, -61767339628390.0000\n",
            "16, -61767339628395.0000, -185302018885179.0000, 555906056655557.0000\n",
            "17, 555906056655552.0000, 1667718169966662.0000, -5003154509899966.0000\n",
            "18, -5003154509899971.0000, -15009463529699908.0000, 45028390589099744.0000\n",
            "19, 45028390589099744.0000, 135085171767299232.0000, -405255515301897664.0000\n",
            "20, -405255515301897728.0000, -1215766545905693184.0000, 3647299637717079552.0000\n",
            "21, 3647299637717079552.0000, 10941898913151238144.0000, -32825696739453714432.0000\n",
            "22, -32825696739453714432.0000, -98477090218361143296.0000, 295431270655083413504.0000\n",
            "23, 295431270655083413504.0000, 886293811965250240512.0000, -2658881435895750721536.0000\n",
            "24, -2658881435895750721536.0000, -7976644307687252688896.0000, 23929932923061755969536.0000\n",
            "25, 23929932923061755969536.0000, 71789798769185267908608.0000, -215369396307555786948608.0000\n",
            "26, -215369396307555786948608.0000, -646108188922667293736960.0000, 1938324566768001881210880.0000\n",
            "27, 1938324566768001881210880.0000, 5814973700304005106761728.0000, -17444921100912015320285184.0000\n",
            "28, -17444921100912015320285184.0000, -52334763302736048108339200.0000, 157004289908208135735083008.0000\n",
            "29, 157004289908208135735083008.0000, 471012869724624407205249024.0000, -1413038609173873084176793600.0000\n",
            "30, -1413038609173873084176793600.0000, -4239115827521619252530380800.0000, 12717347482564856658079514624.0000\n",
            "31, 12717347482564856658079514624.0000, 38152042447694569974238543872.0000, -114456127343083701126622609408.0000\n",
            "32, -114456127343083701126622609408.0000, -343368382029251103379867828224.0000, 1030105146087753310139603484672.0000\n",
            "33, 1030105146087753310139603484672.0000, 3090315438263259789681322098688.0000, -9270946314789779369043966296064.0000\n",
            "34, -9270946314789779369043966296064.0000, -27812838944369335855332085202944.0000, 83438516833107998558797000867840.0000\n",
            "35, 83438516833107998558797000867840.0000, 250315550499323995676391002603520.0000, -750946651497972023057970026774528.0000\n",
            "36, -750946651497972023057970026774528.0000, -2252839954493916069173910080323584.0000, 6758519863481748207521730240970752.0000\n",
            "37, 6758519863481748207521730240970752.0000, 20275559590445245775486695329759232.0000, -60826678771335737326460085989277696.0000\n",
            "38, -60826678771335737326460085989277696.0000, -182480036314007211979380257967833088.0000, 547440108942021672831628921322602496.0000\n",
            "39, 547440108942021672831628921322602496.0000, 1642320326826064870920934174291394560.0000, -4926960980478194612762802522874183680.0000\n",
            "40, -4926960980478194612762802522874183680.0000, -14780882941434584428584217927328202752.0000, 44342648824303758008119136651629821952.0000\n",
            "41, 44342648824303758008119136651629821952.0000, 133027946472911274024357409954889465856.0000, -399083839418733822073072229864668397568.0000\n",
            "42, -399083839418733822073072229864668397568.0000, -1197251518256201466219216689594005192704.0000, 3591754554768604549773377520610662416384.0000\n",
            "43, 3591754554768604549773377520610662416384.0000, 10775263664305813044857222754517399896064.0000, -32325790992917439134571668263552199688192.0000\n",
            "44, -32325790992917439134571668263552199688192.0000, -96977372978752317403715004790656599064576.0000, 290932118936256952211145014371969797193728.0000\n",
            "45, 290932118936256952211145014371969797193728.0000, 872796356808770856633435043115909391581184.0000, -2618389070426312724642810040020262537134080.0000\n",
            "46, -2618389070426312724642810040020262537134080.0000, -7855167211278938173928430120060787611402240.0000, 23565501633836814521785290360182362834206720.0000\n",
            "47, 23565501633836814521785290360182362834206720.0000, 70696504901510443565355871080547088502620160.0000, -212089514704531340599587927524683464700854272.0000\n",
            "48, -212089514704531340599587927524683464700854272.0000, -636268544113594021798763782574050394102562816.0000, 1908805632340782144624453861986488775851638784.0000\n",
            "49, 1908805632340782144624453861986488775851638784.0000, 5726416897022346750786011643016816701730717696.0000, -17179250691067040252358034929050450105192153088.0000\n",
            "Not Converged!, increase iterations\n"
          ]
        }
      ]
    },
    {
      "cell_type": "code",
      "source": [
        "import numpy as np\n",
        "\n",
        "A = np.array([[2, 3, -1], [1, -1, 2], [3,2,1]])\n",
        "y = np.array([10, 4, 14])\n",
        "\n",
        "x = np.linalg.solve(A,y)\n",
        "print(x)"
      ],
      "metadata": {
        "colab": {
          "base_uri": "https://localhost:8080/"
        },
        "id": "7gzcXMol-b3Y",
        "outputId": "f514db0b-8124-4b98-a43c-0a1402c6effb"
      },
      "execution_count": 7,
      "outputs": [
        {
          "output_type": "stream",
          "name": "stdout",
          "text": [
            "[0.65 4.15 3.75]\n"
          ]
        }
      ]
    },
    {
      "cell_type": "markdown",
      "source": [
        "***NOMOR 2***"
      ],
      "metadata": {
        "id": "ta4FJIu3-7uv"
      }
    },
    {
      "cell_type": "code",
      "source": [
        "import numpy as np\n",
        "a = [[3, -0.1,-0.2],[0.1, 7, -0.3], [0.3, -0.2, 10]]\n",
        "\n",
        "diag = np.diag(np.abs(a))\n",
        "\n",
        "off_diag = np.sum(np.abs(a), axis = 1)\n",
        "if np.all(diag > off_diag):\n",
        "  print('Matrix is diagonally dominant')\n",
        "else:\n",
        "  print('NOT diagonally dominant')"
      ],
      "metadata": {
        "colab": {
          "base_uri": "https://localhost:8080/"
        },
        "id": "RzzY_I6V-9Uj",
        "outputId": "3ea4d5a3-5ee5-4f7a-9aa8-43733c2d94c4"
      },
      "execution_count": 9,
      "outputs": [
        {
          "output_type": "stream",
          "name": "stdout",
          "text": [
            "NOT diagonally dominant\n"
          ]
        }
      ]
    },
    {
      "cell_type": "code",
      "source": [
        "x1 = 1\n",
        "x2 = 2\n",
        "x3 = 3\n",
        "epsilon = 0.001\n",
        "converged = False\n",
        "\n",
        "x_old = np.array([x1, x2, x3])\n",
        "\n",
        "for k in range(1, 50):\n",
        "  x1 = (7.85 + 0.1*x2 + 0.2*x3) / 3\n",
        "  x2 = (-19.3 - 0.1*x1 + 0.3*x3) / 7\n",
        "  x3 = (71.4 - 0.3*x1 + 0.2*x2) / 10\n",
        "  x_new = np.array([x1, x2, x3])\n",
        "  dx = np.sqrt(np.dot(x_new - x_old, x_new - x_old))\n",
        "\n",
        "  print(f\"{k}, {x1:.4f}, {x2:.4f}, {x3:.4f}\")\n",
        "\n",
        "  if dx < epsilon:\n",
        "    converged = True\n",
        "    print('Converged!')\n",
        "    break\n",
        "  x_old = x_new\n",
        "\n",
        "if not converged:\n",
        "  print('Not Converged!, increase iterations')"
      ],
      "metadata": {
        "colab": {
          "base_uri": "https://localhost:8080/"
        },
        "id": "7U0_SvyS_SIM",
        "outputId": "4edd00c4-e265-4db7-89dc-4e8a59b8a65e"
      },
      "execution_count": 10,
      "outputs": [
        {
          "output_type": "stream",
          "name": "stdout",
          "text": [
            "1, 2.8833, -2.6698, 7.0001\n",
            "2, 2.9943, -2.4999, 7.0002\n",
            "3, 3.0000, -2.5000, 7.0000\n",
            "4, 3.0000, -2.5000, 7.0000\n",
            "Converged!\n"
          ]
        }
      ]
    },
    {
      "cell_type": "code",
      "source": [
        "import numpy as np\n",
        "\n",
        "A = np.array([[3, -0.1,-0.2],[0.1, 7, -0.3], [0.3, -0.2, 10]])\n",
        "y = np.array([7.85, -19.3, 71.4])\n",
        "\n",
        "x = np.linalg.solve(A,y)\n",
        "print(x)"
      ],
      "metadata": {
        "colab": {
          "base_uri": "https://localhost:8080/"
        },
        "id": "Hh0hT3IH_0sd",
        "outputId": "fd2a0e62-c2a3-4252-a61e-f21614f93bcd"
      },
      "execution_count": 11,
      "outputs": [
        {
          "output_type": "stream",
          "name": "stdout",
          "text": [
            "[ 3.  -2.5  7. ]\n"
          ]
        }
      ]
    },
    {
      "cell_type": "markdown",
      "source": [
        "***NOMOR 3***"
      ],
      "metadata": {
        "id": "CScYEp3EAAUp"
      }
    },
    {
      "cell_type": "code",
      "source": [
        "import numpy as np\n",
        "from scipy import optimize\n",
        "import matplotlib.pyplot as plt\n",
        "\n",
        "x = np.array([5, 4, 6, 7, 5])\n",
        "y = np.array([10, 8, 12, 14, 10])\n",
        "\n",
        "def func(x, a, b):\n",
        "  return a * x + b\n",
        "\n",
        "alpha, _ = optimize.curve_fit(func, x, y)\n",
        "print(alpha)"
      ],
      "metadata": {
        "colab": {
          "base_uri": "https://localhost:8080/"
        },
        "id": "jCvxvm31Amk9",
        "outputId": "434a8836-276d-40ef-d191-54f4c84e7c06"
      },
      "execution_count": 31,
      "outputs": [
        {
          "output_type": "stream",
          "name": "stdout",
          "text": [
            "[ 2.00000000e+00 -2.18158824e-12]\n"
          ]
        },
        {
          "output_type": "stream",
          "name": "stderr",
          "text": [
            "<ipython-input-31-c193cc9a6c0a>:11: OptimizeWarning: Covariance of the parameters could not be estimated\n",
            "  alpha, _ = optimize.curve_fit(func, x, y)\n"
          ]
        }
      ]
    },
    {
      "cell_type": "code",
      "source": [
        "import numpy as np\n",
        "import matplotlib.pyplot as plt\n",
        "\n",
        "x = np.array([5, 4, 6, 7, 5])\n",
        "y = np.array([10, 8, 12, 14, 10])\n",
        "\n",
        "plt.scatter(x, y, label='Data points')\n",
        "plt.plot(x, func(x, *alpha), color='red', label='Fitted line')\n",
        "plt.xlabel('x')\n",
        "plt.ylabel('y')\n",
        "plt.legend()\n",
        "plt.show()"
      ],
      "metadata": {
        "colab": {
          "base_uri": "https://localhost:8080/",
          "height": 449
        },
        "id": "E4n0GITyB8fX",
        "outputId": "037531f8-4bfe-406c-d769-1e38307f1f9e"
      },
      "execution_count": 24,
      "outputs": [
        {
          "output_type": "display_data",
          "data": {
            "text/plain": [
              "<Figure size 640x480 with 1 Axes>"
            ],
            "image/png": "[encoded data removed]"
          },
          "metadata": {}
        }
      ]
    }
  ]
}