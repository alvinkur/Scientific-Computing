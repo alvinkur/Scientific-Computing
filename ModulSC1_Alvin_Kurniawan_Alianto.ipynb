{
  "nbformat": 4,
  "nbformat_minor": 0,
  "metadata": {
    "colab": {
      "provenance": [],
      "authorship_tag": "ABX9TyNjA7usu2r5qMuTZsuwduC/",
      "include_colab_link": true
    },
    "kernelspec": {
      "name": "python3",
      "display_name": "Python 3"
    },
    "language_info": {
      "name": "python"
    }
  },
  "cells": [
    {
      "cell_type": "markdown",
      "metadata": {
        "id": "view-in-github",
        "colab_type": "text"
      },
      "source": [
        "<a href=\"https://colab.research.google.com/github/alvinkur/Scientific-Computing/blob/main/ModulSC1_Alvin_Kurniawan_Alianto.ipynb\" target=\"_parent\"><img src=\"https://colab.research.google.com/assets/colab-badge.svg\" alt=\"Open In Colab\"/></a>"
      ]
    },
    {
      "cell_type": "code",
      "execution_count": 13,
      "metadata": {
        "colab": {
          "base_uri": "https://localhost:8080/"
        },
        "id": "j3-wcits6Gux",
        "outputId": "d05cf59f-4aff-4c7d-8e24-416cae11d333"
      },
      "outputs": [
        {
          "output_type": "stream",
          "name": "stdout",
          "text": [
            "Masukkan Username: Alvin \n",
            "Masukkan Password: Bn123\n",
            "Incorrect Password\n",
            "Masukkan Username: Alvin Kurniawan Alianto\n",
            "Masukkan Password: Bn123\n",
            "Login berhasil, Selamat datang Alvin Kurniawan Alianto\n",
            "\n",
            "Masukkan Nama Siswa: Aw\n",
            "Masukkan Nilai UAS: 10\n",
            "Masukkan Nilai UTS: 0\n",
            "Masukkan Nilai Assignment: 0\n",
            "\n",
            "Hasil perolehan nilai Aw \n",
            "Final Score: 5.0\n",
            "Grade: E\n"
          ]
        }
      ],
      "source": [
        "def login():\n",
        "    username = \"Alvin Kurniawan Alianto\"\n",
        "    password = \"Bn123\"\n",
        "\n",
        "    while True:\n",
        "        input_username = input(\"Masukkan Username: \")\n",
        "        input_password = input(\"Masukkan Password: \")\n",
        "\n",
        "        if input_username == username and input_password == password:\n",
        "            print(f\"Login berhasil, Selamat datang {username}\")\n",
        "            break\n",
        "        else:\n",
        "            print(\"Incorrect Username or Password\")\n",
        "\n",
        "def calculate(uas, uts, asg):\n",
        "    calculated_score = (0.5 * uas) + (0.3 * uts) + (0.2 * asg)\n",
        "    return calculated_score\n",
        "\n",
        "def grade_ranking(score):\n",
        "    if score >= 90:\n",
        "        return \"A\"\n",
        "    elif score >= 85:\n",
        "        return \"A-\"\n",
        "    elif score >= 80:\n",
        "        return \"B+\"\n",
        "    elif score >= 75:\n",
        "        return \"B\"\n",
        "    elif score >= 70:\n",
        "        return \"B-\"\n",
        "    elif score >= 65:\n",
        "        return \"C\"\n",
        "    elif score >= 50:\n",
        "        return \"D\"\n",
        "    elif score > 0:\n",
        "        return \"E\"\n",
        "    else:\n",
        "        return \"F\"\n",
        "\n",
        "def main():\n",
        "    login()\n",
        "    nama_siswa = input(\"\\nMasukkan Nama Siswa: \")\n",
        "    uas = int(input(\"Masukkan Nilai UAS: \"))\n",
        "    uts = int(input(\"Masukkan Nilai UTS: \"))\n",
        "    asg = int(input(\"Masukkan Nilai Assignment: \"))\n",
        "\n",
        "    calculated_score = calculate(uas, uts, asg)\n",
        "    grade = grade_ranking(calculated_score)\n",
        "\n",
        "    print(f\"\\nHasil perolehan nilai {nama_siswa} \\nFinal Score: {calculated_score:.1f}\\nGrade: {grade}\")\n",
        "\n",
        "if __name__ == \"__main__\":\n",
        "    main()"
      ]
    }
  ]
}