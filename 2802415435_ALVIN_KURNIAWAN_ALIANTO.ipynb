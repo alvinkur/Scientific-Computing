{
  "nbformat": 4,
  "nbformat_minor": 0,
  "metadata": {
    "colab": {
      "provenance": [],
      "authorship_tag": "ABX9TyNo2JwWknPPgsyMvzWZIJpP",
      "include_colab_link": true
    },
    "kernelspec": {
      "name": "python3",
      "display_name": "Python 3"
    },
    "language_info": {
      "name": "python"
    }
  },
  "cells": [
    {
      "cell_type": "markdown",
      "metadata": {
        "id": "view-in-github",
        "colab_type": "text"
      },
      "source": [
        "<a href=\"https://colab.research.google.com/github/alvinkur/Scientific-Computing/blob/main/2802415435_ALVIN_KURNIAWAN_ALIANTO.ipynb\" target=\"_parent\"><img src=\"https://colab.research.google.com/assets/colab-badge.svg\" alt=\"Open In Colab\"/></a>"
      ]
    },
    {
      "cell_type": "code",
      "execution_count": null,
      "metadata": {
        "colab": {
          "base_uri": "https://localhost:8080/"
        },
        "id": "1SlqnrkzHFCI",
        "outputId": "50f605d9-e8c4-4784-a4f7-42921edd121d"
      },
      "outputs": [
        {
          "output_type": "execute_result",
          "data": {
            "text/plain": [
              "10"
            ]
          },
          "metadata": {},
          "execution_count": 3
        }
      ],
      "source": [
        "x = 10\n",
        "x"
      ]
    },
    {
      "cell_type": "code",
      "source": [
        "x = x + 1\n",
        "x"
      ],
      "metadata": {
        "colab": {
          "base_uri": "https://localhost:8080/"
        },
        "id": "8EwTArHpJSZz",
        "outputId": "262a409c-36fc-4376-cfa1-00c84360f840"
      },
      "execution_count": null,
      "outputs": [
        {
          "output_type": "execute_result",
          "data": {
            "text/plain": [
              "11"
            ]
          },
          "metadata": {},
          "execution_count": 4
        }
      ]
    },
    {
      "cell_type": "code",
      "source": [
        "x = x + 10\n",
        "x"
      ],
      "metadata": {
        "colab": {
          "base_uri": "https://localhost:8080/"
        },
        "id": "XqD8c4ecJs8K",
        "outputId": "73fba18d-343b-4203-ff2a-d329b85753e7"
      },
      "execution_count": null,
      "outputs": [
        {
          "output_type": "execute_result",
          "data": {
            "text/plain": [
              "21"
            ]
          },
          "metadata": {},
          "execution_count": 5
        }
      ]
    },
    {
      "cell_type": "code",
      "source": [
        "x = 1\n",
        "y = x + 1\n",
        "x = 2\n",
        "y"
      ],
      "metadata": {
        "colab": {
          "base_uri": "https://localhost:8080/"
        },
        "id": "kstueo4MKFvN",
        "outputId": "f1f32294-1340-4a26-e8cf-da101af1a179"
      },
      "execution_count": null,
      "outputs": [
        {
          "output_type": "execute_result",
          "data": {
            "text/plain": [
              "2"
            ]
          },
          "metadata": {},
          "execution_count": 6
        }
      ]
    },
    {
      "cell_type": "code",
      "source": [
        "import numpy as np"
      ],
      "metadata": {
        "id": "HdfxNlf-K1OL"
      },
      "execution_count": null,
      "outputs": []
    },
    {
      "cell_type": "code",
      "source": [
        "x = np.array([1,4,3])\n",
        "x"
      ],
      "metadata": {
        "colab": {
          "base_uri": "https://localhost:8080/"
        },
        "id": "9pnqRP3CLReh",
        "outputId": "50fd5784-4d08-460b-99a5-1c71fe8e1e84"
      },
      "execution_count": null,
      "outputs": [
        {
          "output_type": "execute_result",
          "data": {
            "text/plain": [
              "array([1, 4, 3])"
            ]
          },
          "metadata": {},
          "execution_count": 9
        }
      ]
    },
    {
      "cell_type": "code",
      "source": [
        "x = np.array([1,4,3,9,2,7])\n",
        "y = x.reshape(2,3)\n",
        "y"
      ],
      "metadata": {
        "colab": {
          "base_uri": "https://localhost:8080/"
        },
        "id": "9nTSafrFL7gx",
        "outputId": "2be19f12-3a11-4610-fe22-3987dbf296c9"
      },
      "execution_count": null,
      "outputs": [
        {
          "output_type": "execute_result",
          "data": {
            "text/plain": [
              "array([[1, 4, 3],\n",
              "       [9, 2, 7]])"
            ]
          },
          "metadata": {},
          "execution_count": 12
        }
      ]
    },
    {
      "cell_type": "code",
      "source": [
        "x = np.array([[1,4,3],[9,2,7]])\n",
        "x"
      ],
      "metadata": {
        "colab": {
          "base_uri": "https://localhost:8080/"
        },
        "id": "qj0P_BwWNhVj",
        "outputId": "1ba257bb-7aaa-4337-8304-b9690cbc63b0"
      },
      "execution_count": null,
      "outputs": [
        {
          "output_type": "execute_result",
          "data": {
            "text/plain": [
              "array([[1, 4, 3],\n",
              "       [9, 2, 7]])"
            ]
          },
          "metadata": {},
          "execution_count": 14
        }
      ]
    },
    {
      "cell_type": "code",
      "source": [
        "def my_adder(a,b,c):\n",
        "\n",
        "      out = a+b+c\n",
        "      return out"
      ],
      "metadata": {
        "id": "0AK6chlTOfR2"
      },
      "execution_count": null,
      "outputs": []
    },
    {
      "cell_type": "code",
      "source": [
        "my_adder(68,82,19)"
      ],
      "metadata": {
        "colab": {
          "base_uri": "https://localhost:8080/"
        },
        "id": "xRnTFIXOO0AZ",
        "outputId": "d97e46e6-0652-47c5-fa88-ed507a28cb07"
      },
      "execution_count": null,
      "outputs": [
        {
          "output_type": "execute_result",
          "data": {
            "text/plain": [
              "169"
            ]
          },
          "metadata": {},
          "execution_count": 17
        }
      ]
    },
    {
      "cell_type": "code",
      "source": [
        "def my_thermo_stat(temp, desired_temp):\n",
        "    if temp < desired_temp - 5:\n",
        "        status = 'Heat'\n",
        "    elif temp > desired_temp + 5:\n",
        "        status = 'AC'\n",
        "    else:\n",
        "        status = 'Off'\n",
        "    return status"
      ],
      "metadata": {
        "id": "1iDIUMquQoOx"
      },
      "execution_count": null,
      "outputs": []
    },
    {
      "cell_type": "code",
      "source": [
        "status = my_thermo_stat(32,38)\n",
        "print(status)"
      ],
      "metadata": {
        "colab": {
          "base_uri": "https://localhost:8080/"
        },
        "id": "jcBiq1LkREHv",
        "outputId": "8821bf14-e013-44d2-d713-6361087644b4"
      },
      "execution_count": null,
      "outputs": [
        {
          "output_type": "stream",
          "name": "stdout",
          "text": [
            "Heat\n"
          ]
        }
      ]
    },
    {
      "cell_type": "code",
      "source": [
        "status = my_thermo_stat(96,51)\n",
        "print(status)"
      ],
      "metadata": {
        "colab": {
          "base_uri": "https://localhost:8080/"
        },
        "id": "GgebV8cDRPHY",
        "outputId": "2b767bfd-c0bf-496c-a776-877f4d2c8c1d"
      },
      "execution_count": null,
      "outputs": [
        {
          "output_type": "stream",
          "name": "stdout",
          "text": [
            "AC\n"
          ]
        }
      ]
    },
    {
      "cell_type": "code",
      "source": [
        "status = my_thermo_stat(66,64)\n",
        "print(status)"
      ],
      "metadata": {
        "colab": {
          "base_uri": "https://localhost:8080/"
        },
        "id": "FVy9ghbxRd18",
        "outputId": "68ae0cb9-46ca-4a93-f0d7-6bf6dfc3eae9"
      },
      "execution_count": null,
      "outputs": [
        {
          "output_type": "stream",
          "name": "stdout",
          "text": [
            "Off\n"
          ]
        }
      ]
    },
    {
      "cell_type": "code",
      "source": [
        "x = 3\n",
        "if 1 < x < 2:\n",
        "  y = 2\n",
        "elif 2 < x < 4:\n",
        "  y = 4\n",
        "else:\n",
        "  y = 0\n",
        "print(y)"
      ],
      "metadata": {
        "colab": {
          "base_uri": "https://localhost:8080/"
        },
        "id": "z6uoRh8zSrTm",
        "outputId": "81f585c8-3ee0-4ce5-ba38-1876cbd707c8"
      },
      "execution_count": null,
      "outputs": [
        {
          "output_type": "stream",
          "name": "stdout",
          "text": [
            "4\n"
          ]
        }
      ]
    }
  ]
}